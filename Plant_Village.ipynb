{
  "nbformat": 4,
  "nbformat_minor": 0,
  "metadata": {
    "colab": {
      "name": "Plant Village.ipynb",
      "provenance": [],
      "collapsed_sections": []
    },
    "kernelspec": {
      "name": "python3",
      "display_name": "Python 3"
    },
    "accelerator": "GPU"
  },
  "cells": [
    {
      "cell_type": "markdown",
      "metadata": {
        "id": "TBA3t9XjV_J_",
        "colab_type": "text"
      },
      "source": [
        "**Plant disease detection (Plant name and disease name)**"
      ]
    },
    {
      "cell_type": "code",
      "metadata": {
        "id": "8ADAcbfpyYnU",
        "colab_type": "code",
        "outputId": "927a344b-0ad5-42e1-d897-d567d9b74015",
        "colab": {
          "base_uri": "https://localhost:8080/",
          "height": 122
        }
      },
      "source": [
        "from google.colab import drive\n",
        "drive.mount('/content/drive')"
      ],
      "execution_count": 0,
      "outputs": [
        {
          "output_type": "stream",
          "text": [
            "Go to this URL in a browser: https://accounts.google.com/o/oauth2/auth?client_id=947318989803-6bn6qk8qdgf4n4g3pfee6491hc0brc4i.apps.googleusercontent.com&redirect_uri=urn%3aietf%3awg%3aoauth%3a2.0%3aoob&response_type=code&scope=email%20https%3a%2f%2fwww.googleapis.com%2fauth%2fdocs.test%20https%3a%2f%2fwww.googleapis.com%2fauth%2fdrive%20https%3a%2f%2fwww.googleapis.com%2fauth%2fdrive.photos.readonly%20https%3a%2f%2fwww.googleapis.com%2fauth%2fpeopleapi.readonly\n",
            "\n",
            "Enter your authorization code:\n",
            "··········\n",
            "Mounted at /content/drive\n"
          ],
          "name": "stdout"
        }
      ]
    },
    {
      "cell_type": "code",
      "metadata": {
        "id": "1hYFUQ8gy95Z",
        "colab_type": "code",
        "outputId": "2aea909c-d453-4418-a5b6-85fd1964d574",
        "colab": {
          "base_uri": "https://localhost:8080/",
          "height": 590
        }
      },
      "source": [
        "from tensorflow.python.client import device_lib\n",
        "print(device_lib.list_local_devices())"
      ],
      "execution_count": 0,
      "outputs": [
        {
          "output_type": "display_data",
          "data": {
            "text/html": [
              "<p style=\"color: red;\">\n",
              "The default version of TensorFlow in Colab will soon switch to TensorFlow 2.x.<br>\n",
              "We recommend you <a href=\"https://www.tensorflow.org/guide/migrate\" target=\"_blank\">upgrade</a> now \n",
              "or ensure your notebook will continue to use TensorFlow 1.x via the <code>%tensorflow_version 1.x</code> magic:\n",
              "<a href=\"https://colab.research.google.com/notebooks/tensorflow_version.ipynb\" target=\"_blank\">more info</a>.</p>\n"
            ],
            "text/plain": [
              "<IPython.core.display.HTML object>"
            ]
          },
          "metadata": {
            "tags": []
          }
        },
        {
          "output_type": "stream",
          "text": [
            "[name: \"/device:CPU:0\"\n",
            "device_type: \"CPU\"\n",
            "memory_limit: 268435456\n",
            "locality {\n",
            "}\n",
            "incarnation: 7488801333198973225\n",
            ", name: \"/device:XLA_CPU:0\"\n",
            "device_type: \"XLA_CPU\"\n",
            "memory_limit: 17179869184\n",
            "locality {\n",
            "}\n",
            "incarnation: 5746845208684739554\n",
            "physical_device_desc: \"device: XLA_CPU device\"\n",
            ", name: \"/device:XLA_GPU:0\"\n",
            "device_type: \"XLA_GPU\"\n",
            "memory_limit: 17179869184\n",
            "locality {\n",
            "}\n",
            "incarnation: 1624926662538819601\n",
            "physical_device_desc: \"device: XLA_GPU device\"\n",
            ", name: \"/device:GPU:0\"\n",
            "device_type: \"GPU\"\n",
            "memory_limit: 11330115994\n",
            "locality {\n",
            "  bus_id: 1\n",
            "  links {\n",
            "  }\n",
            "}\n",
            "incarnation: 4205732552721608641\n",
            "physical_device_desc: \"device: 0, name: Tesla K80, pci bus id: 0000:00:04.0, compute capability: 3.7\"\n",
            "]\n"
          ],
          "name": "stdout"
        }
      ]
    },
    {
      "cell_type": "markdown",
      "metadata": {
        "id": "k-KInCJcWIvm",
        "colab_type": "text"
      },
      "source": [
        "**Getting data**\n",
        "\n",
        "\n",
        "Paths of images and there corresponding labels are stored in lists. List of image paths is later used to load images in batches."
      ]
    },
    {
      "cell_type": "code",
      "metadata": {
        "id": "in2G-RH_zTe7",
        "colab_type": "code",
        "outputId": "277ea1a9-c249-46db-ded1-9976a542bf09",
        "colab": {
          "base_uri": "https://localhost:8080/",
          "height": 34
        }
      },
      "source": [
        "import os\n",
        "os.getcwd()"
      ],
      "execution_count": 0,
      "outputs": [
        {
          "output_type": "execute_result",
          "data": {
            "text/plain": [
              "'/content'"
            ]
          },
          "metadata": {
            "tags": []
          },
          "execution_count": 4
        }
      ]
    },
    {
      "cell_type": "code",
      "metadata": {
        "id": "K-93TXrbzWTI",
        "colab_type": "code",
        "colab": {}
      },
      "source": [
        "os.chdir(r\"drive/My Drive/plantvillage/color\")\n"
      ],
      "execution_count": 0,
      "outputs": []
    },
    {
      "cell_type": "code",
      "metadata": {
        "id": "8ihFG8onz4lH",
        "colab_type": "code",
        "colab": {}
      },
      "source": [
        "data_path=os.getcwd()"
      ],
      "execution_count": 0,
      "outputs": []
    },
    {
      "cell_type": "code",
      "metadata": {
        "id": "w7RiA6mZz8Mq",
        "colab_type": "code",
        "outputId": "29c3a5be-477b-44e0-b541-6dfb294fd71e",
        "colab": {
          "base_uri": "https://localhost:8080/",
          "height": 663
        }
      },
      "source": [
        "label_counter=0\n",
        "img_name_list=[]\n",
        "labels=[]\n",
        "label_map_dic={}\n",
        "count=0\n",
        "\n",
        "for filename in os.listdir(data_path):\n",
        "    foldername=filename.strip()\n",
        "    for imgname in os.listdir(data_path+\"/\"+filename):\n",
        "        imagepath=data_path+\"/\"+filename+\"/\"+imgname\n",
        "        img_name_list.append(imagepath)\n",
        "        labels.append(label_counter)\n",
        "        count+=1\n",
        "    if label_counter not in label_map_dic:\n",
        "        label_map_dic[foldername]=label_counter\n",
        "    label_counter+=1\n",
        "    print(str(count) + \" \" + foldername)\n",
        "        "
      ],
      "execution_count": 0,
      "outputs": [
        {
          "output_type": "stream",
          "text": [
            "1645 Apple___healthy\n",
            "2807 Corn_(maize)___healthy\n",
            "4309 Blueberry___healthy\n",
            "5361 Cherry_(including_sour)___Powdery_mildew\n",
            "5636 Apple___Cedar_apple_rust\n",
            "6490 Cherry_(including_sour)___healthy\n",
            "7682 Corn_(maize)___Common_rust_\n",
            "8312 Apple___Apple_scab\n",
            "8825 Corn_(maize)___Cercospora_leaf_spot Gray_leaf_spot\n",
            "9446 Apple___Black_rot\n",
            "10522 Grape___Leaf_blight_(Isariopsis_Leaf_Spot)\n",
            "10882 Peach___healthy\n",
            "11305 Grape___healthy\n",
            "12290 Corn_(maize)___Northern_Leaf_Blight\n",
            "13470 Grape___Black_rot\n",
            "18997 Orange___Haunglongbing_(Citrus_greening)\n",
            "21294 Peach___Bacterial_spot\n",
            "22291 Pepper,_bell___Bacterial_spot\n",
            "23769 Pepper,_bell___healthy\n",
            "25152 Grape___Esca_(Black_Measles)\n",
            "26162 Potato___Late_blight\n",
            "27271 Strawberry___Leaf_scorch\n",
            "32361 Soybean___healthy\n",
            "32817 Strawberry___healthy\n",
            "34652 Squash___Powdery_mildew\n",
            "35652 Tomato___Early_blight\n",
            "35804 Potato___healthy\n",
            "36175 Raspberry___healthy\n",
            "37183 Potato___Early_blight\n",
            "39310 Tomato___Bacterial_spot\n",
            "41219 Tomato___Late_blight\n",
            "42623 Tomato___Target_Spot\n",
            "42996 Tomato___Tomato_mosaic_virus\n",
            "44767 Tomato___Septoria_leaf_spot\n",
            "50142 Tomato___Tomato_Yellow_Leaf_Curl_Virus\n",
            "51818 Tomato___Spider_mites Two-spotted_spider_mite\n",
            "53410 Tomato___healthy\n",
            "54362 Tomato___Leaf_Mold\n"
          ],
          "name": "stdout"
        }
      ]
    },
    {
      "cell_type": "code",
      "metadata": {
        "id": "5OM1T1Wqz_k_",
        "colab_type": "code",
        "outputId": "163c110a-9d02-427c-f875-33e3b22f7106",
        "colab": {
          "base_uri": "https://localhost:8080/",
          "height": 51
        }
      },
      "source": [
        "print(len(img_name_list))\n",
        "print(len(labels))"
      ],
      "execution_count": 0,
      "outputs": [
        {
          "output_type": "stream",
          "text": [
            "54362\n",
            "54362\n"
          ],
          "name": "stdout"
        }
      ]
    },
    {
      "cell_type": "code",
      "metadata": {
        "id": "sC93Svik0Ioj",
        "colab_type": "code",
        "outputId": "7c6e24dd-9967-4273-b2ca-fcacdb16a5b1",
        "colab": {
          "base_uri": "https://localhost:8080/",
          "height": 290
        }
      },
      "source": [
        "from keras.preprocessing import image\n",
        "image.load_img(img_name_list[7])"
      ],
      "execution_count": 0,
      "outputs": [
        {
          "output_type": "stream",
          "text": [
            "Using TensorFlow backend.\n"
          ],
          "name": "stderr"
        },
        {
          "output_type": "execute_result",
          "data": {
            "image/png": "[encoded data removed]",
            "text/plain": [
              "<PIL.JpegImagePlugin.JpegImageFile image mode=RGB size=256x256 at 0x7FE261037748>"
            ]
          },
          "metadata": {
            "tags": []
          },
          "execution_count": 9
        }
      ]
    },
    {
      "cell_type": "markdown",
      "metadata": {
        "id": "CLHqtdlcWW3n",
        "colab_type": "text"
      },
      "source": [
        "**Randomizing**\n",
        "\n",
        "The lists are randomized so that we have equal distribution of all classes in test set and training set"
      ]
    },
    {
      "cell_type": "code",
      "metadata": {
        "id": "Newz4qhS0L5Z",
        "colab_type": "code",
        "colab": {}
      },
      "source": [
        "import random\n",
        "a=list(range(len(labels)))\n",
        "random.shuffle(a)\n",
        "img_name_list=[img_name_list[i] for i in a ]\n",
        "labels=[labels[i] for i in a]"
      ],
      "execution_count": 0,
      "outputs": []
    },
    {
      "cell_type": "markdown",
      "metadata": {
        "id": "qRWJKmE5Wgph",
        "colab_type": "text"
      },
      "source": [
        "**Function get_batch()**\n",
        "\n",
        "This function helps to retrieve a single batch of data of defined batch size. Global index (current_index) is increased after taking every batch so that every time next batch is retrieved"
      ]
    },
    {
      "cell_type": "code",
      "metadata": {
        "id": "I7dzykfb0O6g",
        "colab_type": "code",
        "colab": {}
      },
      "source": [
        "\n",
        "import numpy as np\n",
        "from keras.utils import to_categorical\n",
        "def get_batch():\n",
        "    index=0\n",
        "    global current_index\n",
        "    B=np.zeros(shape=(64,224,224,3))\n",
        "    L=np.zeros(64)\n",
        "    while index <64:\n",
        "        img=image.load_img(img_name_list[current_index],target_size=(224,224))\n",
        "        B[index]=image.img_to_array(img)\n",
        "        B[index]=np.expand_dims(B[index],axis=0)\n",
        "        L[index]=labels[current_index]\n",
        "        current_index+=1\n",
        "        index+=1\n",
        "    return B,to_categorical(L,38)"
      ],
      "execution_count": 0,
      "outputs": []
    },
    {
      "cell_type": "code",
      "metadata": {
        "id": "4cMH6vYw5efu",
        "colab_type": "code",
        "colab": {}
      },
      "source": [
        "import tensorflow as tf"
      ],
      "execution_count": 0,
      "outputs": []
    },
    {
      "cell_type": "markdown",
      "metadata": {
        "id": "8wvvcMmGWnxp",
        "colab_type": "text"
      },
      "source": [
        "**Loading Model**\n",
        "\n",
        "Pre-trained VGG16 model of keras is loaded"
      ]
    },
    {
      "cell_type": "code",
      "metadata": {
        "id": "UbfmPfcF5e7m",
        "colab_type": "code",
        "colab": {}
      },
      "source": [
        "image_input = Input(shape=(224,224,3))\n",
        "include_top = True\n",
        "model = VGG16(input_tensor=image_input, include_top=True,weights='imagenet')\n",
        "model.summary()\n"
      ],
      "execution_count": 0,
      "outputs": []
    },
    {
      "cell_type": "code",
      "metadata": {
        "id": "1VBPD4Lw5fAA",
        "colab_type": "code",
        "outputId": "b1d1f612-e59b-43da-ff70-e49b678ebe85",
        "colab": {
          "base_uri": "https://localhost:8080/",
          "height": 105
        }
      },
      "source": [
        "from keras.layers import Dense,Input,Dropout,Flatten\n",
        "from keras.models import Model \n"
      ],
      "execution_count": 0,
      "outputs": [
        {
          "output_type": "stream",
          "text": [
            "WARNING:tensorflow:From /usr/local/lib/python3.6/dist-packages/keras/backend/tensorflow_backend.py:66: The name tf.get_default_graph is deprecated. Please use tf.compat.v1.get_default_graph instead.\n",
            "\n",
            "WARNING:tensorflow:From /usr/local/lib/python3.6/dist-packages/keras/backend/tensorflow_backend.py:541: The name tf.placeholder is deprecated. Please use tf.compat.v1.placeholder instead.\n",
            "\n"
          ],
          "name": "stdout"
        }
      ]
    },
    {
      "cell_type": "markdown",
      "metadata": {
        "id": "dGg515zvWypQ",
        "colab_type": "text"
      },
      "source": [
        "**Adding new Layers**\n",
        "\n",
        "The output layer of pre-trained model is removed and the we added 2 fully connected layer with 512 hidden units and an output softmax unit with units equal to number of classes"
      ]
    },
    {
      "cell_type": "code",
      "metadata": {
        "id": "VKM-ikny51oh",
        "colab_type": "code",
        "outputId": "b027fa77-e572-470f-d013-773ff4fda02f",
        "colab": {
          "base_uri": "https://localhost:8080/",
          "height": 88
        }
      },
      "source": [
        "last_layer = model.get_layer('fc2').output\n",
        "fc3 = Dense(512, activation = 'relu', name='fc3')(last_layer)\n",
        "fc4 = Dense(512, activation = 'relu', name='fc4')(fc3)\n",
        "out = Dense(num_classes, activation = 'softmax', name='out')(fc4)\n",
        "customVggModel = Model(image_input,out)\n",
        "customVggModel.summary()"
      ],
      "execution_count": 0,
      "outputs": [
        {
          "output_type": "stream",
          "text": [
            "WARNING:tensorflow:From /usr/local/lib/python3.6/dist-packages/keras/backend/tensorflow_backend.py:3733: calling dropout (from tensorflow.python.ops.nn_ops) with keep_prob is deprecated and will be removed in a future version.\n",
            "Instructions for updating:\n",
            "Please use `rate` instead of `keep_prob`. Rate should be set to `rate = 1 - keep_prob`.\n"
          ],
          "name": "stdout"
        }
      ]
    },
    {
      "cell_type": "markdown",
      "metadata": {
        "id": "O_7M1FZcW8gw",
        "colab_type": "text"
      },
      "source": [
        "\n",
        "**Freezing layers**\n",
        "\n",
        "All layers excpet the last three layers that we added are freezed so their weights cannot be changed."
      ]
    },
    {
      "cell_type": "code",
      "metadata": {
        "id": "XFdonPnc51gA",
        "colab_type": "code",
        "colab": {}
      },
      "source": [
        "\n",
        "for layer in model.layers:\n",
        "  layer.trainable = False"
      ],
      "execution_count": 0,
      "outputs": []
    },
    {
      "cell_type": "markdown",
      "metadata": {
        "id": "Lo_q9totYiHu",
        "colab_type": "text"
      },
      "source": [
        "**Training**"
      ]
    },
    {
      "cell_type": "code",
      "metadata": {
        "id": "D6ej3_wN51sa",
        "colab_type": "code",
        "outputId": "bcec5636-8ffb-4273-aa6c-b1fd5cd9aeaf",
        "colab": {
          "base_uri": "https://localhost:8080/",
          "height": 105
        }
      },
      "source": [
        "custom_model.compile(loss='categorical_crossentropy',optimizer='adam',metrics=['accuracy'])"
      ],
      "execution_count": 0,
      "outputs": [
        {
          "output_type": "stream",
          "text": [
            "WARNING:tensorflow:From /usr/local/lib/python3.6/dist-packages/keras/optimizers.py:793: The name tf.train.Optimizer is deprecated. Please use tf.compat.v1.train.Optimizer instead.\n",
            "\n",
            "WARNING:tensorflow:From /usr/local/lib/python3.6/dist-packages/keras/backend/tensorflow_backend.py:3576: The name tf.log is deprecated. Please use tf.math.log instead.\n",
            "\n"
          ],
          "name": "stdout"
        }
      ]
    },
    {
      "cell_type": "code",
      "metadata": {
        "id": "H9Pu6p-I0gke",
        "colab_type": "code",
        "colab": {}
      },
      "source": [
        "a=len(labels)\n",
        "c=(a // 64)*64"
      ],
      "execution_count": 0,
      "outputs": []
    },
    {
      "cell_type": "code",
      "metadata": {
        "id": "mrviczGB0jt9",
        "colab_type": "code",
        "colab": {}
      },
      "source": [
        "import time\n",
        "cost_list=[]\n",
        "acc_list=[]   \n",
        "nice_n = (len(labels) // 64) * 64   \n",
        "for i in range(0, 2) :\n",
        "    current_index = 0\n",
        "    \n",
        "    while current_index + 64 < len(labels)*0.8 :\n",
        "        start_time = time.time()\n",
        "        \n",
        "        b,l = get_batch()\n",
        "        \n",
        "        loss,accuracy = custom_model.train_on_batch(b, l)\n",
        "        cost_list.append(loss)\n",
        "        acc_list.append(accuracy)\n",
        "        end_time = time.time()\n",
        "        \n",
        "        print('batch {}/{} loss: {} accuracy: {} time: {}ms'.format(int(current_index / 64), int(nice_n / 64), loss, accuracy, 1000 * (end_time - start_time)), flush=True)\n",
        "        print('current_index = {}'.format(current_index))\n",
        "        \n",
        "    print('epoch {}/{}'.format(i,2))"
      ],
      "execution_count": 0,
      "outputs": []
    },
    {
      "cell_type": "code",
      "metadata": {
        "id": "ERYq0kJa0xj8",
        "colab_type": "code",
        "colab": {}
      },
      "source": [
        "from keras.models import load_model\n",
        "#customvgg.save('my_model.h5')"
      ],
      "execution_count": 0,
      "outputs": []
    },
    {
      "cell_type": "code",
      "metadata": {
        "id": "C-V4hlfY6fMf",
        "colab_type": "code",
        "colab": {}
      },
      "source": [
        "nice_n\n"
      ],
      "execution_count": 0,
      "outputs": []
    },
    {
      "cell_type": "markdown",
      "metadata": {
        "id": "n7I-x6D7UboX",
        "colab_type": "text"
      },
      "source": [
        "**Extracting features from last fully connected layer and inputting in SVM**\n",
        "\n",
        "Features are extracted from last fully connected layer and inputted in SVM with the help of Scikit-learn. Used 10-fold cross validation to avoid overfitting\n"
      ]
    },
    {
      "cell_type": "code",
      "metadata": {
        "id": "WKCgPZykB-ge",
        "colab_type": "code",
        "colab": {}
      },
      "source": [
        "layer_name = 'fc4'\n",
        "intermediate_layer_model = Model(inputs = base_model.input, outputs = base_model.get_layer(layer_name).output)\n",
        "intermediate_layer_model.summary()"
      ],
      "execution_count": 0,
      "outputs": []
    },
    {
      "cell_type": "code",
      "metadata": {
        "id": "rH7dKk3cUFGU",
        "colab_type": "code",
        "colab": {}
      },
      "source": [
        "t = time.time()\n",
        "intermediate_output = intermediate_layer_model.predict(img_data, batch_size = 64)\n",
        "print(time.time()-t)"
      ],
      "execution_count": 0,
      "outputs": []
    },
    {
      "cell_type": "code",
      "metadata": {
        "id": "CVBe5wl7UGJ8",
        "colab_type": "code",
        "colab": {}
      },
      "source": [
        "np.save('intermediate_output', intermediate_output)"
      ],
      "execution_count": 0,
      "outputs": []
    },
    {
      "cell_type": "code",
      "metadata": {
        "id": "G6CbjZM1UJNG",
        "colab_type": "code",
        "colab": {}
      },
      "source": [
        "\n",
        "from sklearn import svm\n",
        "\n",
        "lin_clf = svm.LinearSVC()"
      ],
      "execution_count": 0,
      "outputs": []
    },
    {
      "cell_type": "code",
      "metadata": {
        "id": "5RF3EKmrULXn",
        "colab_type": "code",
        "colab": {}
      },
      "source": [
        "\n",
        "from sklearn.cross_validation import cross_val_score"
      ],
      "execution_count": 0,
      "outputs": []
    },
    {
      "cell_type": "code",
      "metadata": {
        "id": "JNGKDqMxUOug",
        "colab_type": "code",
        "colab": {}
      },
      "source": [
        "print(intermediate_output.shape)"
      ],
      "execution_count": 0,
      "outputs": []
    },
    {
      "cell_type": "code",
      "metadata": {
        "id": "ULn5PpY2URmw",
        "colab_type": "code",
        "colab": {}
      },
      "source": [
        "\n",
        "scores = cross_val_score(lin_clf, intermediate_output, labels, cv=10, scoring='accuracy')\n",
        "print(scores)"
      ],
      "execution_count": 0,
      "outputs": []
    },
    {
      "cell_type": "markdown",
      "metadata": {
        "id": "4hSSWTDDUg70",
        "colab_type": "text"
      },
      "source": [
        "\n",
        "**Extracting features from last layer of block 5 and inputting in SVM**"
      ]
    },
    {
      "cell_type": "code",
      "metadata": {
        "id": "aaRhHm2VUWmI",
        "colab_type": "code",
        "colab": {}
      },
      "source": [
        "layer_name = 'flatten'\n",
        "block5_last_layer_model = Model(inputs = base_model.input, outputs = base_model.get_layer(layer_name).output)\n",
        "block5_last_layer_model.summary()"
      ],
      "execution_count": 0,
      "outputs": []
    },
    {
      "cell_type": "code",
      "metadata": {
        "id": "0XT5dpuKUpL_",
        "colab_type": "code",
        "colab": {}
      },
      "source": [
        "t = time.time()\n",
        "block5_last_layer_features = block5_last_layer_model.predict(img_data, batch_size = 64)\n",
        "print(time.time() - t)"
      ],
      "execution_count": 0,
      "outputs": []
    },
    {
      "cell_type": "code",
      "metadata": {
        "id": "AlDsN6BHUwR6",
        "colab_type": "code",
        "colab": {}
      },
      "source": [
        "block5_last_layer_svm = svm.LinearSVC()\n",
        "scores_block5 = cross_val_score(block5_last_layer_svm, block5_last_layer_features, labels, cv=10, scoring='accuracy')\n",
        "print(scores_block5)\n",
        "print('accuracy with svm on features of last layer is : {}%'.format(scores_block5.mean()*100))\n"
      ],
      "execution_count": 0,
      "outputs": []
    },
    {
      "cell_type": "code",
      "metadata": {
        "id": "gzlMDLgyU02j",
        "colab_type": "code",
        "colab": {}
      },
      "source": [
        "print('accuracy with svm on features of last layer of block 5 is : {}%'.format(scores_block5.mean()*100))\n"
      ],
      "execution_count": 0,
      "outputs": []
    },
    {
      "cell_type": "code",
      "metadata": {
        "id": "zHohJkbVU74p",
        "colab_type": "code",
        "colab": {}
      },
      "source": [
        "np.save('block5_features', block5_last_layer_features)"
      ],
      "execution_count": 0,
      "outputs": []
    },
    {
      "cell_type": "markdown",
      "metadata": {
        "id": "-PKGsfhVU-9f",
        "colab_type": "text"
      },
      "source": [
        "**Extracting features from last layer of block 4 and inputting in SVM**"
      ]
    },
    {
      "cell_type": "code",
      "metadata": {
        "id": "_J6bNEJaVCi0",
        "colab_type": "code",
        "colab": {}
      },
      "source": [
        "layer_name = 'block4_pool'\n",
        "block4_last_layer_model = Model(inputs = base_model.input, outputs = base_model.get_layer(layer_name).output)"
      ],
      "execution_count": 0,
      "outputs": []
    },
    {
      "cell_type": "code",
      "metadata": {
        "id": "Hi09kY4KVFep",
        "colab_type": "code",
        "colab": {}
      },
      "source": [
        "last_layer = block4_last_layer_model.get_layer('block4_pool').output\n",
        "out = Flatten()(last_layer)\n",
        "block4_last_layer_model = Model(block4_last_layer_model.input, out)\n",
        "block4_last_layer_model.summary()\n"
      ],
      "execution_count": 0,
      "outputs": []
    },
    {
      "cell_type": "code",
      "metadata": {
        "id": "VeRMk_iFVKML",
        "colab_type": "code",
        "colab": {}
      },
      "source": [
        "t = time.time()\n",
        "block4_last_layer_features = block4_last_layer_model.predict(img_data, batch_size = 64)\n",
        "print(time.time() - t)"
      ],
      "execution_count": 0,
      "outputs": []
    },
    {
      "cell_type": "code",
      "metadata": {
        "id": "ZCSLyCcBVNpy",
        "colab_type": "code",
        "colab": {}
      },
      "source": [
        "block4_last_layer_svm = svm.LinearSVC()\n",
        "scores_block4 = cross_val_score(block4_last_layer_svm, block4_last_layer_features, labels, cv=10, scoring='accuracy')\n",
        "print(scores_block4)\n",
        "print('accuracy with svm on features of last layer of block 4 is : {}%'.format(scores_block4.mean()*100))\n"
      ],
      "execution_count": 0,
      "outputs": []
    },
    {
      "cell_type": "code",
      "metadata": {
        "id": "a91VpX-JVRll",
        "colab_type": "code",
        "colab": {}
      },
      "source": [
        "np.save('block4_features', block4_last_layer_features)"
      ],
      "execution_count": 0,
      "outputs": []
    },
    {
      "cell_type": "markdown",
      "metadata": {
        "id": "1ghfoUyTVWWs",
        "colab_type": "text"
      },
      "source": [
        "**Extracting features from last layer of block 3 and inputting in SVM**\n",
        "\n",
        "\n",
        "Features are extracted from last layer of block 3, also added a max pool layer at the end of block 3 to reduce number of features and inputted in SVM with the help of Scikit-learn. Used 10-fold cross validation to avoid overfitting"
      ]
    },
    {
      "cell_type": "code",
      "metadata": {
        "id": "Nk1H7e8lVZ12",
        "colab_type": "code",
        "colab": {}
      },
      "source": [
        "layer_name = 'block3_pool'\n",
        "block3_last_layer_model = Model(inputs = base_model.input, outputs = base_model.get_layer(layer_name).output)"
      ],
      "execution_count": 0,
      "outputs": []
    },
    {
      "cell_type": "code",
      "metadata": {
        "id": "n9F3cWsjVg8z",
        "colab_type": "code",
        "colab": {}
      },
      "source": [
        "from keras.layers import MaxPooling2D\n",
        "last_layer = block3_last_layer_model.get_layer('block3_pool').output\n",
        "pool_block3_reduce = MaxPooling2D(pool_size=(2, 2), strides=2, padding='valid')(last_layer)\n",
        "out = Flatten()(pool_block3_reduce)\n",
        "block3_last_layer_model = Model(block3_last_layer_model.input, out)\n",
        "block3_last_layer_model.summary()"
      ],
      "execution_count": 0,
      "outputs": []
    },
    {
      "cell_type": "code",
      "metadata": {
        "id": "49soth3ZVkcN",
        "colab_type": "code",
        "colab": {}
      },
      "source": [
        "t = time.time()\n",
        "block3_last_layer_features = block3_last_layer_model.predict(img_data, batch_size = 64)\n",
        "print(time.time() - t)"
      ],
      "execution_count": 0,
      "outputs": []
    },
    {
      "cell_type": "code",
      "metadata": {
        "id": "5zjv29ZvVo7I",
        "colab_type": "code",
        "colab": {}
      },
      "source": [
        "\n",
        "np.save('block3_last', block3_last_layer_features)"
      ],
      "execution_count": 0,
      "outputs": []
    },
    {
      "cell_type": "code",
      "metadata": {
        "id": "zO97ZSHuVsZw",
        "colab_type": "code",
        "colab": {}
      },
      "source": [
        "\n",
        "from sklearn import svm\n",
        "from sklearn.cross_validation import cross_val_score\n",
        "\n",
        "block3_last_layer_svm = svm.LinearSVC()\n",
        "scores_block3 = cross_val_score(block3_last_layer_svm, block3_last_layer_features, labels, cv=10, scoring='accuracy')\n",
        "print(scores_block3)\n",
        "print('accuracy with svm on features of last layer of block 4 is : {}%'.format(scores_block3.mean()*100))"
      ],
      "execution_count": 0,
      "outputs": []
    },
    {
      "cell_type": "code",
      "metadata": {
        "id": "_in6OnwYVwpR",
        "colab_type": "code",
        "colab": {}
      },
      "source": [
        ""
      ],
      "execution_count": 0,
      "outputs": []
    }
  ]
}